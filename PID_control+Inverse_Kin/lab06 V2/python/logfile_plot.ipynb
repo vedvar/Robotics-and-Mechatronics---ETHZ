{
 "cells": [
  {
   "cell_type": "markdown",
   "metadata": {},
   "source": [
    "### Logfile plot\n",
    "This script allows you to generate the necessary plots for Lab06. </br>\n",
    "You can simply run all cells below until the next markdown cell and follow the instructions written there."
   ]
  },
  {
   "cell_type": "code",
   "execution_count": 30,
   "metadata": {},
   "outputs": [],
   "source": [
    "import numpy as np\n",
    "from matplotlib import pyplot as plt\n",
    "import ipywidgets as widgets\n",
    "import re"
   ]
  },
  {
   "cell_type": "code",
   "execution_count": 31,
   "metadata": {},
   "outputs": [],
   "source": [
    "def load_data(file_path: str):\n",
    "    # unpack data into variables directly\n",
    "    t, x_ref, y_ref, vx_ref, vy_ref, x_raw, y_raw, x, y, vx_raw, vy_raw, vx, vy = np.loadtxt(file_path, skiprows = 5, unpack=True, delimiter = \" \")\n",
    "    t = (t - t[0])/1e6 # convert microseconds to seconds\n",
    "\n",
    "    with open(file_path, 'r') as f:\n",
    "        headers = f.readlines()[:2]\n",
    "\n",
    "    task = int(re.findall(\"\\d\", headers[0])[0]) # task selection\n",
    "    weights = re.findall(\"\\d+.\\d+\", headers[1]) #kp, kd, ki\n",
    "    return t, x_ref, y_ref, vx_ref, vy_ref, x_raw, y_raw, x, y, vx_raw, vy_raw, vx, vy, task, weights"
   ]
  },
  {
   "cell_type": "code",
   "execution_count": 32,
   "metadata": {},
   "outputs": [],
   "source": [
    "def step_response(file_path: str):\n",
    "\n",
    "    t, x_ref, y_ref, vx_ref, vy_ref, x_raw, y_raw, x, y, vx_raw, vy_raw, vx, vy, task, weights = load_data(file_path)\n",
    "\n",
    "    fig, ax = plt.subplots(1, 1, figsize=(10,8))\n",
    "\n",
    "    fig.suptitle(file_path[:-4], fontsize=15)\n",
    "    ax.set_title(\"Step Response\")\n",
    "\n",
    "    ax.plot(t,x_ref,'--k', label = 'Reference')\n",
    "    ax.plot(t,x_raw, color='royalblue', alpha=0.4, linewidth=2, label='Unfiltered')\n",
    "    ax.plot(t,x,     color='royalblue', alpha=1, linewidth=2, label='Filtered')\n",
    "    ax.set_xlim([0,10])\n",
    "    ax.grid(color='k', linestyle=':', linewidth=1, alpha =0.8)\n",
    "\n",
    "    if task == 6:\n",
    "        ax.text(9, 80, f\"$K_p$: {weights[0]}\\n$K_d$: {weights[1]}\\n$K_i$: {weights[2]}\", fontsize=12, bbox=dict(facecolor='white', alpha=1))\n",
    "        ax.legend(loc='lower left')\n",
    "\n",
    "    if task == 5:\n",
    "        ax.plot(t, 85*np.ones(len(t)), ':k', linewidth=2, label='Error Limit')\n",
    "        ax.plot(t, 75*np.ones(len(t)), ':k', linewidth=2)\n",
    "        ax.text(9, 15, f\"$K_p$: {weights[0]}\\n$K_d$: {weights[1]}\\n$K_i$: {weights[2]}\", fontsize=12, bbox=dict(facecolor='white', alpha=1))\n",
    "        ax.legend()\n",
    "\n",
    "    "
   ]
  },
  {
   "cell_type": "code",
   "execution_count": 33,
   "metadata": {},
   "outputs": [],
   "source": [
    "def overview(file_path: str):\n",
    "    t, x_ref, y_ref, vx_ref, vy_ref, x_raw, y_raw, x, y, vx_raw, vy_raw, vx, vy, task, weights = load_data(file_path)\n",
    "\n",
    "    fig, axs = plt.subplots(2,2, figsize = (10, 8))\n",
    "    fig.suptitle('Overview')\n",
    "\n",
    "    for ax in axs:\n",
    "        for a in ax:\n",
    "            a.set_xlim([0, 10])\n",
    "            a.grid(color='k', linestyle=':', linewidth=1, alpha =0.8)\n",
    "\n",
    "    pos_range = np.linspace(0, 120, 7)\n",
    "    vel_range = np.linspace(-500, 500, 11)\n",
    "\n",
    "    axs[0][0].plot(t,x_ref,'--k', label = 'Reference')\n",
    "    axs[0][0].plot(t,x_raw, color='royalblue', alpha=0.4, linewidth=4, label='Unfiltered')\n",
    "    axs[0][0].plot(t,x,     color='royalblue', alpha=1, linewidth=2, label='Filtered')\n",
    "    axs[0][0].set_title('x-position')\n",
    "    axs[0][0].set_yticks(pos_range)\n",
    "    axs[0][0].set_yticklabels(pos_range)\n",
    "    # axs[0][0].set_xlabel('Time [s]')\n",
    "    axs[0][0].set_ylabel('Position [mm]')\n",
    "\n",
    "    axs[0][1].plot(t,y_ref,'--k', label = 'Reference')\n",
    "    axs[0][1].plot(t,y_raw, color='royalblue', alpha=0.4, linewidth=4, label='Unfiltered')\n",
    "    axs[0][1].plot(t,y,     color='royalblue', alpha=1, linewidth=2, label='Filtered')\n",
    "    axs[0][1].set_title('y-position')\n",
    "    axs[0][1].set_yticks(pos_range)\n",
    "    axs[0][1].set_yticklabels(pos_range)\n",
    "    # axs[0][1].set_xlabel('Time [s]')\n",
    "    # axs[0][1].set_ylabel('Position [mm]')\n",
    "\n",
    "    axs[1][0].plot(t,vx_ref,'--k', label = 'Reference')\n",
    "    axs[1][0].plot(t,vx_raw, color='orange', alpha=0.4, linewidth=4, label='Unfiltered')\n",
    "    axs[1][0].plot(t,vx,     color='orange', alpha=1, linewidth=2, label='Filtered')\n",
    "    axs[1][0].set_title('x-velocity')\n",
    "    axs[1][0].set_yticks(vel_range)\n",
    "    axs[1][0].set_yticklabels(vel_range)\n",
    "    axs[1][0].set_xlabel('Time [s]')\n",
    "    axs[1][0].set_ylabel('Velocity [mm/s]')\n",
    "\n",
    "    axs[1][1].plot(t,vy_ref,'--k', label = 'Reference')\n",
    "    axs[1][1].plot(t,vy_raw, color='orange', alpha=0.4, linewidth=4, label='Unfiltered')\n",
    "    axs[1][1].plot(t,vy,     color='orange', alpha=1, linewidth=2, label='Filtered')\n",
    "    axs[1][1].set_title('y-velocity')\n",
    "    axs[1][1].set_yticks(vel_range)\n",
    "    axs[1][1].set_yticklabels(vel_range)\n",
    "    axs[1][1].set_xlabel('Time [s]')\n",
    "    # axs[1][1].set_ylabel('Velocity [mm/s]')\n",
    "\n",
    "    fig.tight_layout()"
   ]
  },
  {
   "cell_type": "code",
   "execution_count": 34,
   "metadata": {},
   "outputs": [],
   "source": [
    "def ball_trajectory(file_path: str):\n",
    "    t, x_ref, y_ref, vx_ref, vy_ref, x_raw, y_raw, x, y, vx_raw, vy_raw, vx, vy, task, weights = load_data(file_path)\n",
    "\n",
    "    fig, ax = plt.subplots(1, 1, figsize=(10,10))\n",
    "    ax.set_title('Trajectory')\n",
    "\n",
    "    t = np.linspace(0, 2*np.pi)\n",
    "    ax.plot(80*np.sin(t), 80*np.cos(t),'--k')\n",
    "    ax.plot(60*np.sin(t), 60*np.cos(t),'--k')\n",
    "    ax.plot(100*np.sin(t), 100*np.cos(t),'--k')\n",
    "    ax.plot(20*np.sin(t), 20*np.cos(t),'--k')\n",
    "    ax.plot(20*np.sin(t) + 80, 20*np.cos(t),'--k')\n",
    "    ax.plot(20*np.sin(t) - 80, 20*np.cos(t),'--k')\n",
    "    ax.plot(20*np.sin(t), 20*np.cos(t) + 80,'--k')\n",
    "    ax.plot(20*np.sin(t), 20*np.cos(t) - 80,'--k')\n",
    "\n",
    "    ax.set_xlabel('x [mm]')\n",
    "    ax.set_ylabel('y [mm]')\n",
    "    ax.grid(color='k', linestyle=':', linewidth=1, alpha =0.8)\n",
    "\n",
    "    ax.plot(x_raw,y_raw,color='royalblue', linewidth=2, alpha=0.4)\n",
    "    ax.plot(x,y,color='royalblue', linewidth=2, alpha=1)\n",
    "    \n",
    "    fig.tight_layout()"
   ]
  },
  {
   "cell_type": "code",
   "execution_count": 35,
   "metadata": {},
   "outputs": [
    {
     "data": {
      "application/vnd.jupyter.widget-view+json": {
       "model_id": "9b8f26cacce04551aeed7bab9411c623",
       "version_major": 2,
       "version_minor": 0
      },
      "text/plain": [
       "Text(value='', description='File path:', placeholder='Write file path here')"
      ]
     },
     "metadata": {},
     "output_type": "display_data"
    }
   ],
   "source": [
    "file_path = widgets.Text(\n",
    "                value='',\n",
    "                placeholder='Write file path here',\n",
    "                description='File path:',\n",
    "                disabled=False\n",
    ")\n",
    "display(file_path)"
   ]
  },
  {
   "cell_type": "markdown",
   "metadata": {},
   "source": [
    "Enter the file path of the `.txt` file that must be accessed in the cell above, then run the code cell below to generate the necessary plots."
   ]
  },
  {
   "cell_type": "code",
   "execution_count": 36,
   "metadata": {},
   "outputs": [
    {
     "ename": "FileNotFoundError",
     "evalue": " not found.",
     "output_type": "error",
     "traceback": [
      "\u001b[0;31m---------------------------------------------------------------------------\u001b[0m",
      "\u001b[0;31mFileNotFoundError\u001b[0m                         Traceback (most recent call last)",
      "\u001b[1;32m/Users/Jandro/Polybox/Shared/IRM_Course/2022/00 New IRM Setups/03 Matlab to Python/Python_Solutions/Lab06/logfile_plot.ipynb Cell 9\u001b[0m in \u001b[0;36m<cell line: 1>\u001b[0;34m()\u001b[0m\n\u001b[0;32m----> <a href='vscode-notebook-cell:/Users/Jandro/Polybox/Shared/IRM_Course/2022/00%20New%20IRM%20Setups/03%20Matlab%20to%20Python/Python_Solutions/Lab06/logfile_plot.ipynb#ch0000008?line=0'>1</a>\u001b[0m step_response(file_path\u001b[39m.\u001b[39;49mvalue)\n\u001b[1;32m      <a href='vscode-notebook-cell:/Users/Jandro/Polybox/Shared/IRM_Course/2022/00%20New%20IRM%20Setups/03%20Matlab%20to%20Python/Python_Solutions/Lab06/logfile_plot.ipynb#ch0000008?line=1'>2</a>\u001b[0m overview(file_path\u001b[39m.\u001b[39mvalue)\n\u001b[1;32m      <a href='vscode-notebook-cell:/Users/Jandro/Polybox/Shared/IRM_Course/2022/00%20New%20IRM%20Setups/03%20Matlab%20to%20Python/Python_Solutions/Lab06/logfile_plot.ipynb#ch0000008?line=2'>3</a>\u001b[0m ball_trajectory(file_path\u001b[39m.\u001b[39mvalue)\n",
      "\u001b[1;32m/Users/Jandro/Polybox/Shared/IRM_Course/2022/00 New IRM Setups/03 Matlab to Python/Python_Solutions/Lab06/logfile_plot.ipynb Cell 9\u001b[0m in \u001b[0;36mstep_response\u001b[0;34m(file_path)\u001b[0m\n\u001b[1;32m      <a href='vscode-notebook-cell:/Users/Jandro/Polybox/Shared/IRM_Course/2022/00%20New%20IRM%20Setups/03%20Matlab%20to%20Python/Python_Solutions/Lab06/logfile_plot.ipynb#ch0000008?line=0'>1</a>\u001b[0m \u001b[39mdef\u001b[39;00m \u001b[39mstep_response\u001b[39m(file_path: \u001b[39mstr\u001b[39m):\n\u001b[0;32m----> <a href='vscode-notebook-cell:/Users/Jandro/Polybox/Shared/IRM_Course/2022/00%20New%20IRM%20Setups/03%20Matlab%20to%20Python/Python_Solutions/Lab06/logfile_plot.ipynb#ch0000008?line=2'>3</a>\u001b[0m     t, x_ref, y_ref, vx_ref, vy_ref, x_raw, y_raw, x, y, vx_raw, vy_raw, vx, vy, task, weights \u001b[39m=\u001b[39m load_data(file_path)\n\u001b[1;32m      <a href='vscode-notebook-cell:/Users/Jandro/Polybox/Shared/IRM_Course/2022/00%20New%20IRM%20Setups/03%20Matlab%20to%20Python/Python_Solutions/Lab06/logfile_plot.ipynb#ch0000008?line=4'>5</a>\u001b[0m     fig, ax \u001b[39m=\u001b[39m plt\u001b[39m.\u001b[39msubplots(\u001b[39m1\u001b[39m, \u001b[39m1\u001b[39m, figsize\u001b[39m=\u001b[39m(\u001b[39m10\u001b[39m,\u001b[39m8\u001b[39m))\n\u001b[1;32m      <a href='vscode-notebook-cell:/Users/Jandro/Polybox/Shared/IRM_Course/2022/00%20New%20IRM%20Setups/03%20Matlab%20to%20Python/Python_Solutions/Lab06/logfile_plot.ipynb#ch0000008?line=6'>7</a>\u001b[0m     fig\u001b[39m.\u001b[39msuptitle(file_path[:\u001b[39m-\u001b[39m\u001b[39m4\u001b[39m], fontsize\u001b[39m=\u001b[39m\u001b[39m15\u001b[39m)\n",
      "\u001b[1;32m/Users/Jandro/Polybox/Shared/IRM_Course/2022/00 New IRM Setups/03 Matlab to Python/Python_Solutions/Lab06/logfile_plot.ipynb Cell 9\u001b[0m in \u001b[0;36mload_data\u001b[0;34m(file_path)\u001b[0m\n\u001b[1;32m      <a href='vscode-notebook-cell:/Users/Jandro/Polybox/Shared/IRM_Course/2022/00%20New%20IRM%20Setups/03%20Matlab%20to%20Python/Python_Solutions/Lab06/logfile_plot.ipynb#ch0000008?line=0'>1</a>\u001b[0m \u001b[39mdef\u001b[39;00m \u001b[39mload_data\u001b[39m(file_path: \u001b[39mstr\u001b[39m):\n\u001b[1;32m      <a href='vscode-notebook-cell:/Users/Jandro/Polybox/Shared/IRM_Course/2022/00%20New%20IRM%20Setups/03%20Matlab%20to%20Python/Python_Solutions/Lab06/logfile_plot.ipynb#ch0000008?line=1'>2</a>\u001b[0m     \u001b[39m# unpack data into variables directly\u001b[39;00m\n\u001b[0;32m----> <a href='vscode-notebook-cell:/Users/Jandro/Polybox/Shared/IRM_Course/2022/00%20New%20IRM%20Setups/03%20Matlab%20to%20Python/Python_Solutions/Lab06/logfile_plot.ipynb#ch0000008?line=2'>3</a>\u001b[0m     t, x_ref, y_ref, vx_ref, vy_ref, x_raw, y_raw, x, y, vx_raw, vy_raw, vx, vy \u001b[39m=\u001b[39m np\u001b[39m.\u001b[39;49mloadtxt(file_path, skiprows \u001b[39m=\u001b[39;49m \u001b[39m5\u001b[39;49m, unpack\u001b[39m=\u001b[39;49m\u001b[39mTrue\u001b[39;49;00m, delimiter \u001b[39m=\u001b[39;49m \u001b[39m\"\u001b[39;49m\u001b[39m \u001b[39;49m\u001b[39m\"\u001b[39;49m)\n\u001b[1;32m      <a href='vscode-notebook-cell:/Users/Jandro/Polybox/Shared/IRM_Course/2022/00%20New%20IRM%20Setups/03%20Matlab%20to%20Python/Python_Solutions/Lab06/logfile_plot.ipynb#ch0000008?line=3'>4</a>\u001b[0m     t \u001b[39m=\u001b[39m (t \u001b[39m-\u001b[39m t[\u001b[39m0\u001b[39m])\u001b[39m/\u001b[39m\u001b[39m1e6\u001b[39m \u001b[39m# convert microseconds to seconds\u001b[39;00m\n\u001b[1;32m      <a href='vscode-notebook-cell:/Users/Jandro/Polybox/Shared/IRM_Course/2022/00%20New%20IRM%20Setups/03%20Matlab%20to%20Python/Python_Solutions/Lab06/logfile_plot.ipynb#ch0000008?line=5'>6</a>\u001b[0m     \u001b[39mwith\u001b[39;00m \u001b[39mopen\u001b[39m(file_path, \u001b[39m'\u001b[39m\u001b[39mr\u001b[39m\u001b[39m'\u001b[39m) \u001b[39mas\u001b[39;00m f:\n",
      "File \u001b[0;32m/usr/local/lib/python3.9/site-packages/numpy/lib/npyio.py:1308\u001b[0m, in \u001b[0;36mloadtxt\u001b[0;34m(fname, dtype, comments, delimiter, converters, skiprows, usecols, unpack, ndmin, encoding, max_rows, quotechar, like)\u001b[0m\n\u001b[1;32m   1305\u001b[0m \u001b[39mif\u001b[39;00m \u001b[39misinstance\u001b[39m(delimiter, \u001b[39mbytes\u001b[39m):\n\u001b[1;32m   1306\u001b[0m     delimiter \u001b[39m=\u001b[39m delimiter\u001b[39m.\u001b[39mdecode(\u001b[39m'\u001b[39m\u001b[39mlatin1\u001b[39m\u001b[39m'\u001b[39m)\n\u001b[0;32m-> 1308\u001b[0m arr \u001b[39m=\u001b[39m _read(fname, dtype\u001b[39m=\u001b[39;49mdtype, comment\u001b[39m=\u001b[39;49mcomment, delimiter\u001b[39m=\u001b[39;49mdelimiter,\n\u001b[1;32m   1309\u001b[0m             converters\u001b[39m=\u001b[39;49mconverters, skiplines\u001b[39m=\u001b[39;49mskiprows, usecols\u001b[39m=\u001b[39;49musecols,\n\u001b[1;32m   1310\u001b[0m             unpack\u001b[39m=\u001b[39;49munpack, ndmin\u001b[39m=\u001b[39;49mndmin, encoding\u001b[39m=\u001b[39;49mencoding,\n\u001b[1;32m   1311\u001b[0m             max_rows\u001b[39m=\u001b[39;49mmax_rows, quote\u001b[39m=\u001b[39;49mquotechar)\n\u001b[1;32m   1313\u001b[0m \u001b[39mreturn\u001b[39;00m arr\n",
      "File \u001b[0;32m/usr/local/lib/python3.9/site-packages/numpy/lib/npyio.py:955\u001b[0m, in \u001b[0;36m_read\u001b[0;34m(fname, delimiter, comment, quote, imaginary_unit, usecols, skiplines, max_rows, converters, ndmin, unpack, dtype, encoding)\u001b[0m\n\u001b[1;32m    953\u001b[0m     fname \u001b[39m=\u001b[39m os\u001b[39m.\u001b[39mfspath(fname)\n\u001b[1;32m    954\u001b[0m \u001b[39mif\u001b[39;00m \u001b[39misinstance\u001b[39m(fname, \u001b[39mstr\u001b[39m):\n\u001b[0;32m--> 955\u001b[0m     fh \u001b[39m=\u001b[39m np\u001b[39m.\u001b[39;49mlib\u001b[39m.\u001b[39;49m_datasource\u001b[39m.\u001b[39;49mopen(fname, \u001b[39m'\u001b[39;49m\u001b[39mrt\u001b[39;49m\u001b[39m'\u001b[39;49m, encoding\u001b[39m=\u001b[39;49mencoding)\n\u001b[1;32m    956\u001b[0m     \u001b[39mif\u001b[39;00m encoding \u001b[39mis\u001b[39;00m \u001b[39mNone\u001b[39;00m:\n\u001b[1;32m    957\u001b[0m         encoding \u001b[39m=\u001b[39m \u001b[39mgetattr\u001b[39m(fh, \u001b[39m'\u001b[39m\u001b[39mencoding\u001b[39m\u001b[39m'\u001b[39m, \u001b[39m'\u001b[39m\u001b[39mlatin1\u001b[39m\u001b[39m'\u001b[39m)\n",
      "File \u001b[0;32m/usr/local/lib/python3.9/site-packages/numpy/lib/_datasource.py:193\u001b[0m, in \u001b[0;36mopen\u001b[0;34m(path, mode, destpath, encoding, newline)\u001b[0m\n\u001b[1;32m    156\u001b[0m \u001b[39m\"\"\"\u001b[39;00m\n\u001b[1;32m    157\u001b[0m \u001b[39mOpen `path` with `mode` and return the file object.\u001b[39;00m\n\u001b[1;32m    158\u001b[0m \n\u001b[0;32m   (...)\u001b[0m\n\u001b[1;32m    189\u001b[0m \n\u001b[1;32m    190\u001b[0m \u001b[39m\"\"\"\u001b[39;00m\n\u001b[1;32m    192\u001b[0m ds \u001b[39m=\u001b[39m DataSource(destpath)\n\u001b[0;32m--> 193\u001b[0m \u001b[39mreturn\u001b[39;00m ds\u001b[39m.\u001b[39;49mopen(path, mode, encoding\u001b[39m=\u001b[39;49mencoding, newline\u001b[39m=\u001b[39;49mnewline)\n",
      "File \u001b[0;32m/usr/local/lib/python3.9/site-packages/numpy/lib/_datasource.py:533\u001b[0m, in \u001b[0;36mDataSource.open\u001b[0;34m(self, path, mode, encoding, newline)\u001b[0m\n\u001b[1;32m    530\u001b[0m     \u001b[39mreturn\u001b[39;00m _file_openers[ext](found, mode\u001b[39m=\u001b[39mmode,\n\u001b[1;32m    531\u001b[0m                               encoding\u001b[39m=\u001b[39mencoding, newline\u001b[39m=\u001b[39mnewline)\n\u001b[1;32m    532\u001b[0m \u001b[39melse\u001b[39;00m:\n\u001b[0;32m--> 533\u001b[0m     \u001b[39mraise\u001b[39;00m \u001b[39mFileNotFoundError\u001b[39;00m(\u001b[39mf\u001b[39m\u001b[39m\"\u001b[39m\u001b[39m{\u001b[39;00mpath\u001b[39m}\u001b[39;00m\u001b[39m not found.\u001b[39m\u001b[39m\"\u001b[39m)\n",
      "\u001b[0;31mFileNotFoundError\u001b[0m:  not found."
     ]
    }
   ],
   "source": [
    "step_response(file_path.value)\n",
    "overview(file_path.value)\n",
    "ball_trajectory(file_path.value)"
   ]
  }
 ],
 "metadata": {
  "kernelspec": {
   "display_name": "Python 3.9.9 64-bit",
   "language": "python",
   "name": "python3"
  },
  "language_info": {
   "codemirror_mode": {
    "name": "ipython",
    "version": 3
   },
   "file_extension": ".py",
   "mimetype": "text/x-python",
   "name": "python",
   "nbconvert_exporter": "python",
   "pygments_lexer": "ipython3",
   "version": "3.9.9"
  },
  "orig_nbformat": 4,
  "vscode": {
   "interpreter": {
    "hash": "949777d72b0d2535278d3dc13498b2535136f6dfe0678499012e853ee9abcab1"
   }
  }
 },
 "nbformat": 4,
 "nbformat_minor": 2
}
