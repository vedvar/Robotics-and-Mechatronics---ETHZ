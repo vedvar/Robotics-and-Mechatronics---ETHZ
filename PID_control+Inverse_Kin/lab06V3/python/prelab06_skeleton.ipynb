{
 "cells": [
  {
   "cell_type": "markdown",
   "metadata": {},
   "source": [
    "# Prelab 06\n",
    "\n",
    "After having read the Introduction of the Lab manual we will investigate the performance of a PID controller on the given system. For that, we use frequency domain methods to easily simulate the closed-loop control. For the purposes of simplifying the modeling we discard the relationship between motor angles and plate pose - we skip the motors and links and assume that the output of the controller is directly the plate angle. </br>\n",
    "\n",
    "This Jupyter notebook contains the skeleton of the code.  </br>\n",
    "Put your code as well as the answers in the respective sections and hand in a single Jupyter notebook (.ipynb) file."
   ]
  },
  {
   "cell_type": "code",
   "execution_count": null,
   "metadata": {},
   "outputs": [],
   "source": [
    "import numpy as np\n",
    "from control import TransferFunction, step_response, impulse_response, tf, pade, forced_response, series, feedback\n",
    "from matplotlib import pyplot as plt"
   ]
  },
  {
   "cell_type": "markdown",
   "metadata": {},
   "source": [
    "###  Prelab Q1\n",
    "To analyze the system, it is sufficient to only consider one of the two directions of movement. We will look at the behaviour of the PID controller with movement in x-direction. \n",
    "Calculate the open loop transfer function of this plant. You can use the linearized differential equation to calculate the transfer function.\n",
    "The transfer function is given by the Laplace transform of small changes in output over small changes in the input. The constant $g$ is approximated by $10m/s^2$ (for the formula 6.6 in the lab manual). Plot the impulse and the step response of the open loop transfer function using the functions `impulse_response()` and `step_response()` from the `python-control` package. </br>\n",
    "\n",
    "**Use a step of 0.1 magnitude**, this means your input signal wants to control the ball 10 cm off-center. </br>\n",
    "\n",
    "On your report, show the plots as subplots next to each other and comment and explain the difference between step and impulse response and what they mean for the open-loop system. </br>\n",
    "\n",
    "**Don't forget to add axis labels to your plots to make them readable and get full marks.**"
   ]
  },
  {
   "attachments": {},
   "cell_type": "markdown",
   "metadata": {},
   "source": [
    "When defining transfer functions using the `python-control` package, you can define them by specifying the polynomial coefficients of the numerator and denominator or using algebraic expressions after initializing `s=TransferFunction.s`\n",
    "\n",
    "When manipulating transfer functions (in series, in parallel, or in feedback), there exist different ways to express the resulting transfer function of such interconnections. </br>\n",
    "Look at functions that are already imported for you and their documentation to understand how they work.\n",
    "\n",
    "\n",
    "Documentation: <href/> https://python-control.readthedocs.io/en/0.9.3.post2/control.html<href>"
   ]
  },
  {
   "cell_type": "code",
   "execution_count": null,
   "metadata": {},
   "outputs": [],
   "source": [
    "T = np.linspace(0, 5, 50001)\n",
    "\n",
    "# Define transfer function of plant\n",
    "P = ... \n",
    "\n"
   ]
  },
  {
   "cell_type": "code",
   "execution_count": null,
   "metadata": {},
   "outputs": [],
   "source": [
    "# Compute and plot the Impulse and step response of the uncontrolled system\n",
    "imp = ...\n",
    "step = ...\n",
    "\n",
    "fig, axs = plt.subplots(1, 2, figsize=(12,5))\n"
   ]
  },
  {
   "attachments": {},
   "cell_type": "markdown",
   "metadata": {},
   "source": [
    "Comment and explain the difference between step and impulse response and what they mean for the open-loop system </br>\n",
    "\n",
    "\n",
    "<font color=green> your Answer </font>\n",
    "\n"
   ]
  },
  {
   "attachments": {},
   "cell_type": "markdown",
   "metadata": {},
   "source": [
    "### Prelab Q2\n",
    "\n",
    "Create the transfer function of the controller and close the feedback loop according to Fig. 6.2. in the lab manual. Note that the inverse kinematics and servos are now skipped. You can further assume that the camera feedback has a transfer function of 1. For control in x-direction, this results in the simplified system depicted in the figure below. Plot the Step (0.1 magnitude) response for $K_p=20, K_i=1, K_d=2$. \n",
    "\n",
    "Is this response under-damped, critically damped or over-damped? \n",
    "\n",
    "<font color=green> your Answer </font>\n",
    "\n",
    "What happens to your response if you increase $K_d$ to 20? \n",
    "\n",
    "<font color=green> your Answer </font>\n",
    "\n",
    "If you consider our real system with visual feedback, what could be the risk of increasing $K_d$ too high? </br>\n",
    "<font color=green> your Answer </font>\n",
    "\n",
    "The script that you hand in should show the plot for the two $K_d$ values and the answers to the questions above. For this Prelab, write all your answers in Markdown cells within this file."
   ]
  },
  {
   "cell_type": "code",
   "execution_count": null,
   "metadata": {},
   "outputs": [],
   "source": [
    "# Create the transfer function of the controller with closed feedback loop and the given parameters\n",
    "Kp  = 20\n",
    "Ki  = 1\n",
    "Kd  = 2\n",
    "Kd_ = 20\n",
    "\n",
    "controller  = ...\n",
    "controller_ = ...\n",
    "\n",
    "forward  = ...\n",
    "forward_ = ...\n",
    "\n",
    "T1  = ...\n",
    "T1_ = ..."
   ]
  },
  {
   "cell_type": "code",
   "execution_count": null,
   "metadata": {},
   "outputs": [],
   "source": [
    "step_T1  = ...\n",
    "step_T1_ = ...\n",
    "\n",
    "fig, ax = plt.subplots(1,1)\n",
    "fig.suptitle(\"Closed loop step response without delay\")\n"
   ]
  },
  {
   "attachments": {},
   "cell_type": "markdown",
   "metadata": {},
   "source": [
    "### Prelab Q3\n",
    "\n",
    "The real system has a small latency due to the image-processing part happening on the Pixy cam. Although the setup with the Pixy cam minimizes this delay, it could still be big enough to impact our controller design.\n",
    "\n",
    "Simulate this time-delay by adding it to our control loop. A time delay in the frequency domain is given by the exponential function $e^{−sT}$, where $s$ is the Laplace variable and $T$ is the delay. \n",
    "\n",
    "If we assume that the pixycam introduces a delay of 80ms, you will see that the system is no longer stable.\n",
    "\n",
    "Find parameters that stabilize the system with a steady state error at 5 seconds that is smaller than 0.001 (=1mm) for a step input of 0.1 magnitude. Make sure to print the steady state error and plot the obtained response. \n",
    "\n",
    "If you increase the delay to 1 second it will be difficult to stabilize the system within 5 seconds, what is the fundamental reason for that?\n",
    "\n",
    "\n",
    "<font color=green> your Answer </font>\n"
   ]
  },
  {
   "attachments": {},
   "cell_type": "markdown",
   "metadata": {},
   "source": [
    "The `python-control` library cannot express time delay as an exponential function. Therefore, we will use the `pade` function, which approximates the delay, expressed as a rational function.\n",
    "\n",
    "The `pade` function takes as arguments, the desired delay and the degree of the denominator approximation, and returns the numerator and the denominator of the approximated delay.\n",
    "\n",
    "https://python-control.readthedocs.io/en/latest/generated/control.pade.html?highlight=Pade\n",
    "</br>"
   ]
  },
  {
   "cell_type": "code",
   "execution_count": null,
   "metadata": {},
   "outputs": [],
   "source": [
    "Kp, Ki, Kd = ...\n",
    "delay, delay_ = ... \n",
    "N_pade = ...\n",
    "controller = ...\n",
    "\n",
    "Hdelay  = ...\n",
    "Hdelay_ = ..."
   ]
  },
  {
   "cell_type": "code",
   "execution_count": null,
   "metadata": {},
   "outputs": [],
   "source": [
    "T2  = ...\n",
    "T2_ = ..."
   ]
  },
  {
   "cell_type": "code",
   "execution_count": null,
   "metadata": {},
   "outputs": [],
   "source": [
    "# Calculate and plot the closed loop step response with delay\n",
    "step_T2  = ...\n",
    "step_T2_ = ...\n",
    "\n",
    "fig, axs = plt.subplots(1,2, figsize=(12,5))\n",
    "\n",
    "\n",
    "fig.tight_layout()"
   ]
  },
  {
   "cell_type": "code",
   "execution_count": null,
   "metadata": {},
   "outputs": [],
   "source": [
    "# Print your steady state error for both delays\n"
   ]
  },
  {
   "attachments": {},
   "cell_type": "markdown",
   "metadata": {},
   "source": [
    "### Prelab Q4\n",
    "\n",
    "When analyzing the system further you notice that the PID controller’s output exceeds the speed limits of your motors. What could be one of the problems you face?\n",
    "\n",
    "\n",
    "<font color=green> your Answer </font>"
   ]
  }
 ],
 "metadata": {
  "kernelspec": {
   "display_name": "Python 3.9.9 64-bit",
   "language": "python",
   "name": "python3"
  },
  "language_info": {
   "codemirror_mode": {
    "name": "ipython",
    "version": 3
   },
   "file_extension": ".py",
   "mimetype": "text/x-python",
   "name": "python",
   "nbconvert_exporter": "python",
   "pygments_lexer": "ipython3",
   "version": "3.9.9"
  },
  "orig_nbformat": 4,
  "vscode": {
   "interpreter": {
    "hash": "949777d72b0d2535278d3dc13498b2535136f6dfe0678499012e853ee9abcab1"
   }
  }
 },
 "nbformat": 4,
 "nbformat_minor": 2
}
