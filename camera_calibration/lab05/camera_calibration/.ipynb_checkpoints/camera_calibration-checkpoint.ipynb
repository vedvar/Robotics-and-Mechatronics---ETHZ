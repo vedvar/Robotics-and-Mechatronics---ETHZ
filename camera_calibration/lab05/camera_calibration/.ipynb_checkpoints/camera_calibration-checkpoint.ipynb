{
 "cells": [
  {
   "cell_type": "markdown",
   "metadata": {},
   "source": [
    "# Camera Calibration\n",
    "\n",
    "Below is a python script that allows you to compute the intrinsic and extrinsic camera parameters based on a set of checkerboard images. This code utilizes functions provided by the OpenCV-Python package.\n",
    "\n",
    "Follow the instructions written below to extract the necessary camera calibration parameters."
   ]
  },
  {
   "cell_type": "code",
   "execution_count": 4,
   "metadata": {},
   "outputs": [],
   "source": [
    "# Code adapted from openCV documentation example:\n",
    "# https://opencv24-python-tutorials.readthedocs.io/en/latest/py_tutorials/py_calib3d/py_calibration/py_calibration.html\n",
    "# accessed 11 Jul 22\n",
    "\n",
    "\n",
    "# https://docs.pixycam.com/wiki/doku.php?id=wiki:v2:installing_pixymon_on_linux pixymon installation guide\n",
    "\n",
    "# Import required modules\n",
    "import cv2\n",
    "import numpy as np\n",
    "import glob\n",
    "from tqdm import tqdm"
   ]
  },
  {
   "cell_type": "markdown",
   "metadata": {},
   "source": [
    "Modify the below cell prior to running the next cells"
   ]
  },
  {
   "cell_type": "code",
   "execution_count": 5,
   "metadata": {},
   "outputs": [],
   "source": [
    "# Extract list of paths to checkerboard images\n",
    "# Modify accordingly\n",
    "images = sorted(glob.glob('images/*.png'))\n",
    "num_images = len(images)\n",
    "# In some cases, slight blurring of the image may aid checkerboard detection\n",
    "# Feel free to attempt different filter sizes for blurring before settling on a specific filter size\n",
    "filt_size = [1, 2]"
   ]
  },
  {
   "cell_type": "markdown",
   "metadata": {},
   "source": [
    "**Make sure that at least 10 images are analyzed successfully.** </br>\n",
    "Avoiding glare can help improve checkerboard detection.\n",
    "\n",
    "The `calibrateCamera()` function returns the camera matrix, distortion coefficients, rotation and translation vectors in the following form:\n",
    "$$ \\mathrm{camera \\: matrix} = \n",
    "                \\begin{bmatrix} \n",
    "                    \\alpha_u & 0   & u_0 \\\\ \n",
    "                    0   & \\alpha_v & v_0 \\\\\n",
    "                    0   & 0   & 1 \n",
    "                \\end{bmatrix}$$\n",
    "$$ \\mathrm{distortion \\: coefficients} = \\begin{bmatrix} k_1 & k_2  \\end{bmatrix}$$\n",
    "\n",
    "$\\alpha_u$ and $\\alpha_v$ are the camera focal lengths in pixel.\n",
    "\n",
    "$k_1$ and $k_2$ are the radial distortion coefficients.\n",
    "\n",
    "$u_0$ and $v_0$ are the optical centers in pixel.\n",
    "\n",
    "Scale factor: It is used to scale pixy-image such that it fits the image from the Python calibration procedure"
   ]
  },
  {
   "cell_type": "code",
   "execution_count": 6,
   "metadata": {},
   "outputs": [
    {
     "name": "stderr",
     "output_type": "stream",
     "text": [
      "100%|██████████████████████████████████████████████████████████████████████| 30/30 [00:18<00:00,  1.61it/s]\n"
     ]
    },
    {
     "name": "stdout",
     "output_type": "stream",
     "text": [
      "Filter size: 1\n",
      "1 out of 30 images analyzed successfully.\n",
      "Image height = 751, width=1140\n",
      "Scale factor in x = 3.62, and in y = 3.63\n",
      "calibration_image_scale factor = 3.62\n",
      "Radial distortion coefficients k1 = -0.8986 and k2 = 0.9858\n",
      "Focal lengh in pixel: 812.6156\n",
      "Optical centers in pixel u_0 = 555.2675 and v_0 = 382.0855\n",
      "Reprojection error: 0.1710\n"
     ]
    },
    {
     "name": "stderr",
     "output_type": "stream",
     "text": [
      "100%|██████████████████████████████████████████████████████████████████████| 30/30 [00:12<00:00,  2.40it/s]"
     ]
    },
    {
     "name": "stdout",
     "output_type": "stream",
     "text": [
      "Filter size: 2\n",
      "1 out of 30 images analyzed successfully.\n",
      "Image height = 751, width=1140\n",
      "Scale factor in x = 3.62, and in y = 3.63\n",
      "calibration_image_scale factor = 3.62\n",
      "Radial distortion coefficients k1 = -0.9496 and k2 = 1.0983\n",
      "Focal lengh in pixel: 836.4105\n",
      "Optical centers in pixel u_0 = 555.1743 and v_0 = 382.6967\n",
      "Reprojection error: 0.1697\n"
     ]
    },
    {
     "name": "stderr",
     "output_type": "stream",
     "text": [
      "\n"
     ]
    }
   ],
   "source": [
    "# We are using an 8x10 checkerboard image\n",
    "# The open-cv findChessboardCorners() only detects internal corners\n",
    "DIMS = (7, 9)\n",
    "\n",
    "# Modify this variable to display the analyzed image\n",
    "# If TRUE, press any key to move on to the next image\n",
    "# If you wish to stop examining images, you can press 'a' to analyze the remaining images without displaying them\n",
    "show_images = True\n",
    "key=0\n",
    "\n",
    "# stop criteria for subpix coordinate iteration loop\n",
    "criteria = (cv2.TERM_CRITERIA_EPS + cv2.TERM_CRITERIA_MAX_ITER, 30, 0.001)\n",
    "\n",
    "for filt in filt_size:\n",
    "\tcount = 0\n",
    "\n",
    "\t# prepare object points, like (0,0,0), (1,0,0), (2,0,0) ....,(6,5,0)\n",
    "\tobjp = np.zeros((DIMS[0]*DIMS[1],3), np.float32)\n",
    "\tobjp[:,:2] = np.mgrid[0:DIMS[0],0:DIMS[1]].T.reshape(-1,2)\n",
    "\n",
    "\t# Arrays to store object points and image points from all the images.\n",
    "\tobjpoints = [] # 3d point in real world space\n",
    "\timgpoints = [] # 2d points in image plane.\n",
    "\n",
    "\tfor idx in tqdm(range(num_images)):\n",
    "\t\t\n",
    "\t\tfilename = images[idx]\n",
    "\t\timage = cv2.imread(filename)\n",
    "        \n",
    "\t\th, w, c = image.shape\n",
    "\n",
    "\t\t# blurring the image with a blur window of size (filt x filt)\n",
    "\t\tblur = cv2.blur(image, (filt,filt))\n",
    "\n",
    "\t\t# converting into grayscale for chessboard corner detection\n",
    "\t\tgrayColor = cv2.cvtColor(blur, cv2.COLOR_BGR2GRAY)\n",
    "\t\tgray_display = cv2.cvtColor(grayColor, cv2.COLOR_GRAY2BGR)\n",
    "\n",
    "\n",
    "\t\t# Find the chess board corners\n",
    "\t\tret, corners = cv2.findChessboardCorners(grayColor, DIMS, cv2.CALIB_CB_FAST_CHECK)\n",
    "\n",
    "\n",
    "\t\t# If found, add object points, image points (after refining them)\n",
    "\t\tif ret == True:\n",
    "\t\t\tcount += 1\n",
    "\t\t\tobjpoints.append(objp)\n",
    "\n",
    "\t\t\tcorners2 = cv2.cornerSubPix(grayColor, corners, (11, 11), (-1, -1), criteria)\n",
    "\n",
    "\t\t\timgpoints.append(corners2)\n",
    "\n",
    "\t\t\t# Draw and display the corners\n",
    "\t\t\timage = cv2.drawChessboardCorners(image, DIMS, corners2, ret)\n",
    "\n",
    "\t\tif show_images:\n",
    "\t\t\t\n",
    "\t\t\tboth_images = np.hstack((gray_display, image))\n",
    "\t\t\tcv2.putText(both_images,\"Press any key to see next image\", (10, 30), cv2.FONT_HERSHEY_SIMPLEX, 1, (0,0,255) , 2, 2)\n",
    "\t\t\tcv2.putText(both_images,\"Press 'a' to stop inspecting images individually\", (10, 65), cv2.FONT_HERSHEY_SIMPLEX, 1, (0,0,255) , 2, 2)\n",
    "\t\t\tcv2.imshow(filename, both_images)\n",
    "\t\t\tkey = cv2.waitKey(0)\n",
    "\n",
    "\t\t\tif key == 97: # equals to a\n",
    "\t\t\t\tshow_images = False\n",
    "\t\t\tcv2.destroyAllWindows()\n",
    "\t\t\tcv2.waitKey(1)\n",
    "\n",
    "    \n",
    "## outputs\n",
    "\tprint(f\"Filter size: {filt}\\n{count} out of {num_images} images analyzed successfully.\")\n",
    "\tprint(f\"Image height = {h}, width={w}\")\n",
    "\tprint(f\"Scale factor in x = {w/315:.2f}, and in y = {h/207:.2f}\")\n",
    "\tprint(f\"calibration_image_scale factor = {(h/207 + w/315)/2:.2f}\")\n",
    "\t\n",
    "\t#camera calibration, the flags ensure that a radial distortion model with 2 coefficients is used for the calibration\n",
    "\tret, mtx, dist, r_vecs, t_vecs = cv2.calibrateCamera(objpoints, imgpoints, grayColor.shape[::-1], None, None, flags=cv2.CALIB_FIX_K3 +cv2.CALIB_ZERO_TANGENT_DIST)\n",
    "    \n",
    "\t# Printing only the values necessary for our camera calibration\n",
    "\tprint(f\"Radial distortion coefficients k1 = {dist[0][0]:.4f} and k2 = {dist[0][1]:.4f}\")\n",
    "\tprint(f\"Focal lengh in pixel: {(mtx[0][0]+mtx[1][1])/2:.4f}\")\n",
    "\tprint(f\"Optical centers in pixel u_0 = {mtx[0][2]:.4f} and v_0 = {mtx[1][2]:.4f}\")\n",
    "\n",
    "    # Calculation of the reprojection error\n",
    "\ttot_error = 0\n",
    "\tfor i in range(len(objpoints)):\n",
    "\t\timgpoints2, _ = cv2.projectPoints(objpoints[i], r_vecs[i], t_vecs[i], mtx, dist)\n",
    "\t\terror = cv2.norm(imgpoints[i], imgpoints2, cv2.NORM_L2)/len(imgpoints2)\n",
    "\t\ttot_error += error\n",
    "\n",
    "\tprint(f\"Reprojection error: {tot_error/len(objpoints):.4f}\")\n"
   ]
  },
  {
   "cell_type": "code",
   "execution_count": null,
   "metadata": {},
   "outputs": [],
   "source": [
    "SYSTEM: BBR2"
   ]
  },
  {
   "cell_type": "code",
   "execution_count": null,
   "metadata": {},
   "outputs": [],
   "source": []
  },
  {
   "cell_type": "code",
   "execution_count": null,
   "metadata": {},
   "outputs": [],
   "source": []
  }
 ],
 "metadata": {
  "interpreter": {
   "hash": "554c591c5ade66d0211d413ce6353f51c2c9d16be05ce4b9c7aab1d20f094f58"
  },
  "kernelspec": {
   "display_name": "Python 3 (ipykernel)",
   "language": "python",
   "name": "python3"
  },
  "language_info": {
   "codemirror_mode": {
    "name": "ipython",
    "version": 3
   },
   "file_extension": ".py",
   "mimetype": "text/x-python",
   "name": "python",
   "nbconvert_exporter": "python",
   "pygments_lexer": "ipython3",
   "version": "3.10.8"
  }
 },
 "nbformat": 4,
 "nbformat_minor": 4
}
